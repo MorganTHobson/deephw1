{
 "cells": [
  {
   "cell_type": "code",
   "execution_count": 1,
   "metadata": {},
   "outputs": [],
   "source": [
    "import numpy as np"
   ]
  },
  {
   "cell_type": "code",
   "execution_count": 2,
   "metadata": {},
   "outputs": [],
   "source": [
    "def sigmoid(x):\n",
    "    return np.exp(x) / (np.exp(x) + 1)"
   ]
  },
  {
   "cell_type": "code",
   "execution_count": 3,
   "metadata": {},
   "outputs": [],
   "source": [
    "class Logistic:\n",
    "    \n",
    "    def __init__(self, rate=0.01, cycles=1000):\n",
    "        self.rate = rate\n",
    "        self.cycles = cycles\n",
    "    \n",
    "    def run(self, points, ids):\n",
    "        self.theta = np.zeros(np.size(points[0]))\n",
    "        self.bias = 0.5\n",
    "        \n",
    "        self.loss = np.zeros(self.cycles)\n",
    "        \n",
    "        for i in range(self.cycles):\n",
    "            for point, truth in zip(points, ids):\n",
    "                error = truth - self.predict(point)\n",
    "                if error != 0:\n",
    "                    self.compute_loss(i, point, truth)\n",
    "                \n",
    "                shift = abs(error) * self.rate\n",
    "                dot = np.dot(point, self.theta) + self.bias\n",
    "                self.bias -= shift * (sigmoid(dot) - truth)\n",
    "                self.theta -= shift * point * (sigmoid(dot) - truth)\n",
    "        \n",
    "        self.report(points, ids)\n",
    "        return self\n",
    "    \n",
    "    def compute_loss(self, i, x, y):\n",
    "        dot = np.dot(x, self.theta)\n",
    "        self.loss[i] -= y * np.log(sigmoid(dot)) + (1 - y) * np.log(sigmoid(-1 * dot))\n",
    "    \n",
    "    def predict(self, ds):\n",
    "        return np.where(sigmoid(np.dot(ds, self.theta)) + self.bias > 0.5, 1, 0)\n",
    "    \n",
    "    def report(self, points, ids):\n",
    "        miss = []\n",
    "        for point, truth in zip(points, ids):\n",
    "            prediction = self.predict(point)\n",
    "            if truth - prediction != 0:\n",
    "                miss.append([point, prediction, truth])\n",
    "        if len(miss) > 0:\n",
    "            print(\"Mislabeled:\")\n",
    "            for c in miss:\n",
    "                print(\"{0}, prediction: {1}, truth: {2}\".format(c[0], c[1], c[2]))"
   ]
  },
  {
   "cell_type": "code",
   "execution_count": 4,
   "metadata": {},
   "outputs": [],
   "source": [
    "log = Logistic()"
   ]
  },
  {
   "cell_type": "code",
   "execution_count": 5,
   "metadata": {},
   "outputs": [
    {
     "name": "stdout",
     "output_type": "stream",
     "text": [
      "[[-0.31614901  1.87605657  1.44811891  0.32817385]\n",
      " [ 2.47446151  1.01092948  0.79865044  1.00262546]\n",
      " [ 1.75279944 -1.52206849 -0.03133356  0.96695073]\n",
      " [ 1.70404679  1.13011281  1.22739355  0.04459299]\n",
      " [ 1.98584207  1.10147818  1.20268202 -0.43239983]\n",
      " [ 0.76420018  0.85763642  1.24111019 -1.27955966]\n",
      " [-0.01706837  1.09825248  0.46900371  0.55239361]\n",
      " [ 0.99235873  1.71183395  1.78633591  2.80797428]\n",
      " [ 1.34429235  1.06651845  1.631352    0.99906764]\n",
      " [ 2.46810471  0.46356975  0.74726428  0.14156749]\n",
      " [ 2.1213611   1.45556037  0.40068621  0.56334793]\n",
      " [ 1.57219761  1.44814411  0.67527587 -0.14375625]\n",
      " [ 0.72035419  1.97134466  0.59783723  0.67200369]\n",
      " [ 2.27026646  1.76715083  2.68380618  0.37930457]\n",
      " [ 1.35243807  2.34200231 -0.04403105  0.75554362]\n",
      " [ 1.38094499  1.07190912  0.63622245  2.53550602]\n",
      " [ 0.87556363  1.18316115  0.68534397 -0.79322208]\n",
      " [ 0.89211314  0.54093417  0.03936654  2.33130998]\n",
      " [ 2.29152831  0.39987078  0.94616961 -0.59047673]\n",
      " [ 1.13162603  1.04564062  1.10291518  0.16477539]]\n",
      "[0 1 0 1 1 1 1 0 0 0 1 0 0 0 1 0 1 0 1 1]\n"
     ]
    }
   ],
   "source": [
    "data = np.load('Data6/data.npz')\n",
    "x = data['x']\n",
    "y = data['y']\n",
    "print(x)\n",
    "print(y)"
   ]
  },
  {
   "cell_type": "code",
   "execution_count": 6,
   "metadata": {},
   "outputs": [
    {
     "name": "stdout",
     "output_type": "stream",
     "text": [
      "Mislabeled:\n",
      "[2.47446151 1.01092948 0.79865044 1.00262546], prediction: 0, truth: 1\n",
      "[2.46810471 0.46356975 0.74726428 0.14156749], prediction: 1, truth: 0\n",
      "[ 1.57219761  1.44814411  0.67527587 -0.14375625], prediction: 1, truth: 0\n",
      "[0.72035419 1.97134466 0.59783723 0.67200369], prediction: 1, truth: 0\n"
     ]
    }
   ],
   "source": [
    "out = log.run(x,y)"
   ]
  },
  {
   "cell_type": "code",
   "execution_count": 7,
   "metadata": {},
   "outputs": [
    {
     "name": "stdout",
     "output_type": "stream",
     "text": [
      "[ 0.01241662  0.04087484 -0.05307767 -0.048604  ]\n"
     ]
    }
   ],
   "source": [
    "print(out.theta)"
   ]
  },
  {
   "cell_type": "code",
   "execution_count": 8,
   "metadata": {},
   "outputs": [],
   "source": [
    "%matplotlib inline\n",
    "import matplotlib.pyplot as plt\n",
    "from mlxtend.plotting import plot_decision_regions"
   ]
  },
  {
   "cell_type": "code",
   "execution_count": 9,
   "metadata": {},
   "outputs": [
    {
     "data": {
      "image/png": "[encoded data removed]",
      "text/plain": [
       "<Figure size 432x288 with 1 Axes>"
      ]
     },
     "metadata": {},
     "output_type": "display_data"
    }
   ],
   "source": [
    "plt.plot(out.loss)\n",
    "plt.xscale('log')"
   ]
  },
  {
   "cell_type": "code",
   "execution_count": 10,
   "metadata": {},
   "outputs": [
    {
     "ename": "ValueError",
     "evalue": "Filler values must be provided when X has more than 2 training features.",
     "output_type": "error",
     "traceback": [
      "\u001b[0;31m---------------------------------------------------------------------------\u001b[0m",
      "\u001b[0;31mValueError\u001b[0m                                Traceback (most recent call last)",
      "\u001b[0;32m<ipython-input-10-8034f99430de>\u001b[0m in \u001b[0;36m<module>\u001b[0;34m()\u001b[0m\n\u001b[0;32m----> 1\u001b[0;31m \u001b[0mplot_decision_regions\u001b[0m\u001b[0;34m(\u001b[0m\u001b[0mx\u001b[0m\u001b[0;34m,\u001b[0m \u001b[0my\u001b[0m\u001b[0;34m,\u001b[0m \u001b[0mclf\u001b[0m\u001b[0;34m=\u001b[0m\u001b[0mlog\u001b[0m\u001b[0;34m)\u001b[0m\u001b[0;34m\u001b[0m\u001b[0m\n\u001b[0m",
      "\u001b[0;32m~/.local/lib/python3.5/site-packages/mlxtend/plotting/decision_regions.py\u001b[0m in \u001b[0;36mplot_decision_regions\u001b[0;34m(X, y, clf, feature_index, filler_feature_values, filler_feature_ranges, ax, X_highlight, res, legend, hide_spines, markers, colors, scatter_kwargs, contourf_kwargs, scatter_highlight_kwargs)\u001b[0m\n\u001b[1;32m    173\u001b[0m     \u001b[0;32mif\u001b[0m \u001b[0mdim\u001b[0m \u001b[0;34m>\u001b[0m \u001b[0;36m2\u001b[0m\u001b[0;34m:\u001b[0m\u001b[0;34m\u001b[0m\u001b[0m\n\u001b[1;32m    174\u001b[0m         \u001b[0;32mif\u001b[0m \u001b[0mfiller_feature_values\u001b[0m \u001b[0;32mis\u001b[0m \u001b[0;32mNone\u001b[0m\u001b[0;34m:\u001b[0m\u001b[0;34m\u001b[0m\u001b[0m\n\u001b[0;32m--> 175\u001b[0;31m             raise ValueError('Filler values must be provided when '\n\u001b[0m\u001b[1;32m    176\u001b[0m                              'X has more than 2 training features.')\n\u001b[1;32m    177\u001b[0m \u001b[0;34m\u001b[0m\u001b[0m\n",
      "\u001b[0;31mValueError\u001b[0m: Filler values must be provided when X has more than 2 training features."
     ]
    },
    {
     "data": {
      "image/png": "[encoded data removed]",
      "text/plain": [
       "<Figure size 432x288 with 1 Axes>"
      ]
     },
     "metadata": {},
     "output_type": "display_data"
    }
   ],
   "source": [
    "plot_decision_regions(x, y, clf=log)"
   ]
  }
 ],
 "metadata": {
  "kernelspec": {
   "display_name": "Python 3",
   "language": "python",
   "name": "python3"
  },
  "language_info": {
   "codemirror_mode": {
    "name": "ipython",
    "version": 3
   },
   "file_extension": ".py",
   "mimetype": "text/x-python",
   "name": "python",
   "nbconvert_exporter": "python",
   "pygments_lexer": "ipython3",
   "version": "3.5.2"
  }
 },
 "nbformat": 4,
 "nbformat_minor": 2
}
