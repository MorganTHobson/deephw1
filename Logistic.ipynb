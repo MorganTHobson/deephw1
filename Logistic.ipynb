{
 "cells": [
  {
   "cell_type": "code",
   "execution_count": 1,
   "metadata": {},
   "outputs": [],
   "source": [
    "import numpy as np"
   ]
  },
  {
   "cell_type": "code",
   "execution_count": 2,
   "metadata": {},
   "outputs": [],
   "source": [
    "def sigmoid(x):\n",
    "    return np.exp(x) / (np.exp(x) + 1)"
   ]
  },
  {
   "cell_type": "code",
   "execution_count": 3,
   "metadata": {},
   "outputs": [],
   "source": [
    "class Logistic:\n",
    "    \n",
    "    def __init__(self, rate=0.01, cycles=1000):\n",
    "        self.rate = rate\n",
    "        self.cycles = cycles\n",
    "    \n",
    "    def run(self, points, ids):\n",
    "        self.theta = np.zeros(np.size(points[0]))\n",
    "        self.bias = 0.5\n",
    "        \n",
    "        self.loss = np.zeros(self.cycles)\n",
    "        \n",
    "        for i in range(self.cycles):\n",
    "            for point, truth in zip(points, ids):\n",
    "                error = truth - self.predict(point)\n",
    "                shift = error * self.rate\n",
    "                self.bias += shift * (sigmoid(np.dot(point, self.theta) - truth))\n",
    "                self.theta += shift * point * (sigmoid(np.dot(point, self.theta) - truth))\n",
    "        \n",
    "        self.report(points, ids)\n",
    "        return self\n",
    "        \n",
    "    def predict(self, ds):\n",
    "        return np.where(sigmoid(np.dot(ds, self.theta)) + self.bias > 0.5, 1, 0)\n",
    "    \n",
    "    def report(self, points, ids):\n",
    "        miss = []\n",
    "        for point, truth in zip(points, ids):\n",
    "            prediction = self.predict(point)\n",
    "            if truth - prediction != 0:\n",
    "                miss.append([point, prediction, truth])\n",
    "        if len(miss) > 0:\n",
    "            print(\"Mislabeled:\")\n",
    "            for c in miss:\n",
    "                print(\"{0}, prediction: {1}, truth: {2}\".format(c[0], c[1], c[2]))"
   ]
  },
  {
   "cell_type": "code",
   "execution_count": 4,
   "metadata": {},
   "outputs": [],
   "source": [
    "log = Logistic()"
   ]
  },
  {
   "cell_type": "code",
   "execution_count": 5,
   "metadata": {},
   "outputs": [
    {
     "name": "stdout",
     "output_type": "stream",
     "text": [
      "[[ 0.04845277  1.10742891]\n",
      " [ 0.58890577  1.37055773]\n",
      " [ 2.96304424  1.14565929]\n",
      " [ 1.00065955  0.84380359]\n",
      " [ 0.59144945  1.19626117]\n",
      " [ 0.32282312  1.00607217]\n",
      " [ 0.26190525  1.21284114]\n",
      " [ 1.67040184  0.57323002]\n",
      " [ 3.02950457  1.33678586]\n",
      " [ 1.46205058  1.18793337]\n",
      " [ 0.9556217   1.40825577]\n",
      " [ 1.26470672  0.72145043]\n",
      " [ 0.75903185  0.77137579]\n",
      " [ 2.46583369  0.2621291 ]\n",
      " [ 0.39165722  0.72350883]\n",
      " [ 2.79751245  1.21613972]\n",
      " [ 2.31412115  1.10830046]\n",
      " [-0.53733665  1.38282973]\n",
      " [ 0.29986401  0.91208983]\n",
      " [ 2.84962037  0.3138899 ]]\n",
      "[0 1 1 0 1 0 1 0 1 1 1 0 0 0 0 1 1 1 0 0]\n"
     ]
    }
   ],
   "source": [
    "data = np.load('Data1/data.npz')\n",
    "x = data['x']\n",
    "y = data['y']\n",
    "print(x)\n",
    "print(y)"
   ]
  },
  {
   "cell_type": "code",
   "execution_count": 6,
   "metadata": {},
   "outputs": [],
   "source": [
    "out = log.run(x,y)"
   ]
  },
  {
   "cell_type": "code",
   "execution_count": 7,
   "metadata": {},
   "outputs": [
    {
     "name": "stdout",
     "output_type": "stream",
     "text": [
      "[0.0055998  0.03544781]\n"
     ]
    }
   ],
   "source": [
    "print(out.theta)"
   ]
  },
  {
   "cell_type": "code",
   "execution_count": 8,
   "metadata": {},
   "outputs": [],
   "source": [
    "%matplotlib inline\n",
    "import matplotlib.pyplot as plt\n",
    "from mlxtend.plotting import plot_decision_regions"
   ]
  },
  {
   "cell_type": "code",
   "execution_count": 9,
   "metadata": {},
   "outputs": [
    {
     "data": {
      "text/plain": [
       "<matplotlib.axes._subplots.AxesSubplot at 0x7f54d08f32b0>"
      ]
     },
     "execution_count": 9,
     "metadata": {},
     "output_type": "execute_result"
    },
    {
     "data": {
      "image/png": "[encoded data removed]",
      "text/plain": [
       "<Figure size 432x288 with 1 Axes>"
      ]
     },
     "metadata": {},
     "output_type": "display_data"
    }
   ],
   "source": [
    "plot_decision_regions(x, y, clf=log)"
   ]
  }
 ],
 "metadata": {
  "kernelspec": {
   "display_name": "Python 3",
   "language": "python",
   "name": "python3"
  },
  "language_info": {
   "codemirror_mode": {
    "name": "ipython",
    "version": 3
   },
   "file_extension": ".py",
   "mimetype": "text/x-python",
   "name": "python",
   "nbconvert_exporter": "python",
   "pygments_lexer": "ipython3",
   "version": "3.5.2"
  }
 },
 "nbformat": 4,
 "nbformat_minor": 2
}
