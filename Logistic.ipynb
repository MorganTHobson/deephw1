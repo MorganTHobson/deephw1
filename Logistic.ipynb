{
 "cells": [
  {
   "cell_type": "code",
   "execution_count": 1,
   "metadata": {},
   "outputs": [],
   "source": [
    "import numpy as np"
   ]
  },
  {
   "cell_type": "code",
   "execution_count": 2,
   "metadata": {},
   "outputs": [],
   "source": [
    "def sigmoid(x):\n",
    "    return np.exp(x) / (np.exp(x) + 1)"
   ]
  },
  {
   "cell_type": "code",
   "execution_count": 3,
   "metadata": {},
   "outputs": [],
   "source": [
    "class Logistic:\n",
    "    \n",
    "    def __init__(self, rate=0.01, cycles=1000):\n",
    "        self.rate = rate\n",
    "        self.cycles = cycles\n",
    "    \n",
    "    def run(self, points, ids):\n",
    "        self.theta = np.zeros(np.size(points[0]))\n",
    "        self.bias = 0.5\n",
    "        \n",
    "        self.loss = np.zeros(self.cycles)\n",
    "        \n",
    "        for i in range(self.cycles):\n",
    "            for point, truth in zip(points, ids):\n",
    "                error = truth - self.predict(point)\n",
    "                shift = error * self.rate\n",
    "                self.bias += error * (sigmoid(np.dot(point, self.theta) - truth))\n",
    "                self.theta += error * point * (sigmoid(np.dot(point, self.theta) - truth))\n",
    "        \n",
    "        self.report(points, ids)\n",
    "        return self\n",
    "        \n",
    "    def predict(self, ds):\n",
    "        return np.where(sigmoid(np.dot(ds, self.theta)) + self.bias > 0.5, 1, 0)\n",
    "    \n",
    "    def report(self, points, ids):\n",
    "        miss = []\n",
    "        for point, truth in zip(points, ids):\n",
    "            prediction = self.predict(point)\n",
    "            if truth - prediction != 0:\n",
    "                miss.append([point, prediction, truth])\n",
    "        if len(miss) > 0:\n",
    "            print(\"Mislabeled:\")\n",
    "            for c in miss:\n",
    "                print(\"{0}, prediction: {1}, truth: {2}\".format(c[0], c[1], c[2]))"
   ]
  },
  {
   "cell_type": "code",
   "execution_count": 4,
   "metadata": {},
   "outputs": [],
   "source": [
    "log = Logistic()"
   ]
  },
  {
   "cell_type": "code",
   "execution_count": 5,
   "metadata": {},
   "outputs": [
    {
     "name": "stdout",
     "output_type": "stream",
     "text": [
      "[[ 0.38379701  1.45470229]\n",
      " [-1.76341782  3.05431453]\n",
      " [ 0.86457926  0.67281117]\n",
      " [ 0.25319139  2.16858132]\n",
      " [ 0.50812768  0.71886278]\n",
      " [-0.44106153  1.38948007]\n",
      " [ 0.96296597  0.52277644]\n",
      " [ 1.53950718 -0.05375071]\n",
      " [ 0.26327587  1.94018831]\n",
      " [ 1.89920607  0.68097808]\n",
      " [ 1.02946096  0.40774384]\n",
      " [ 1.64970325 -0.19367112]\n",
      " [ 1.25519279  1.40269105]\n",
      " [ 1.72568592  1.72519665]\n",
      " [ 1.28628023  2.16691251]\n",
      " [ 3.76552754  0.83570364]\n",
      " [ 1.35902501  0.70825309]\n",
      " [ 1.76453094  1.03100161]\n",
      " [ 2.83830349  0.335233  ]\n",
      " [ 0.9498294   0.9736225 ]]\n",
      "[1 0 1 0 0 0 0 0 0 0 1 1 0 1 1 1 1 1 1 0]\n"
     ]
    }
   ],
   "source": [
    "data = np.load('Data2/data.npz')\n",
    "x = data['x']\n",
    "y = data['y']\n",
    "print(x)\n",
    "print(y)"
   ]
  },
  {
   "cell_type": "code",
   "execution_count": null,
   "metadata": {},
   "outputs": [],
   "source": [
    "out = log.run(x,y)"
   ]
  },
  {
   "cell_type": "code",
   "execution_count": null,
   "metadata": {},
   "outputs": [],
   "source": [
    "print(out.theta)"
   ]
  },
  {
   "cell_type": "code",
   "execution_count": null,
   "metadata": {},
   "outputs": [],
   "source": [
    "%matplotlib inline\n",
    "import matplotlib.pyplot as plt\n",
    "from mlxtend.plotting import plot_decision_regions"
   ]
  },
  {
   "cell_type": "code",
   "execution_count": null,
   "metadata": {},
   "outputs": [],
   "source": [
    "plot_decision_regions(x, y, clf=log)"
   ]
  }
 ],
 "metadata": {
  "kernelspec": {
   "display_name": "Python 3",
   "language": "python",
   "name": "python3"
  },
  "language_info": {
   "codemirror_mode": {
    "name": "ipython",
    "version": 3
   },
   "file_extension": ".py",
   "mimetype": "text/x-python",
   "name": "python",
   "nbconvert_exporter": "python",
   "pygments_lexer": "ipython3",
   "version": "3.5.2"
  }
 },
 "nbformat": 4,
 "nbformat_minor": 2
}
