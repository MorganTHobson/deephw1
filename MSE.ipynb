{
 "cells": [
  {
   "cell_type": "code",
   "execution_count": 1,
   "metadata": {},
   "outputs": [],
   "source": [
    "import numpy as np"
   ]
  },
  {
   "cell_type": "code",
   "execution_count": 2,
   "metadata": {},
   "outputs": [],
   "source": [
    "class MSE:\n",
    "    \n",
    "    def __init__(self, rate=0.01, cycles=10000):\n",
    "        self.rate = rate\n",
    "        self.cycles = cycles\n",
    "        \n",
    "    def run(self, points, ids):\n",
    "        self.theta = np.zeros(np.size(points[0]))\n",
    "        self.bias = 0\n",
    "        \n",
    "        self.best_theta = np.zeros(np.size(points[0]))\n",
    "        self.best_bias = 0\n",
    "        self.best_miss_count = len(ids)\n",
    "        self.best_best_miss = []\n",
    "        \n",
    "        self.loss = np.zeros(self.cycles)\n",
    "        \n",
    "        for i in range(self.cycles):\n",
    "            for point, truth in zip(points, ids):\n",
    "                error = (truth - self.predict(point)) / 2\n",
    "                self.compute_loss(i, point, truth, len(ids))\n",
    "                shift = abs(error) * self.rate\n",
    "                dot = np.dot(point, self.theta)\n",
    "                self.bias -= shift * (2 / len(ids)) * (dot - truth)\n",
    "                self.theta -= shift * point * (2 / len(ids)) * (dot - truth)\n",
    "            self.compute_miss(points,ids)\n",
    "        \n",
    "        self.report(points, ids)\n",
    "        return self\n",
    "\n",
    "    def compute_loss(self, i, x, y, m):\n",
    "        dot = np.dot(x, self.theta)\n",
    "        self.loss[i] += ((y - dot)**2) / m\n",
    "    \n",
    "    def predict(self, ds):\n",
    "        return np.where(np.dot(ds, self.theta) + self.bias > 0, 1, -1)\n",
    "    \n",
    "    def compute_miss(self, points, ids):\n",
    "        miss_count = 0\n",
    "        miss = []\n",
    "        for point, truth in zip(points, ids):\n",
    "            prediction = self.predict(point)\n",
    "            if truth - prediction != 0:\n",
    "                miss_count += 1\n",
    "                miss.append(point)\n",
    "        if miss_count <= self.best_miss_count:\n",
    "            self.best_miss_count = miss_count\n",
    "            self.best_miss = miss\n",
    "            self.best_bias = self.bias\n",
    "            self.best_theta = self.theta\n",
    "    \n",
    "    def report(self, points, ids):\n",
    "        miss = []\n",
    "        for point, truth in zip(points, ids):\n",
    "            prediction = self.predict(point)\n",
    "            if truth - prediction != 0:\n",
    "                miss.append([point, prediction, truth])\n",
    "        if len(miss) > 0:\n",
    "            print(\"Mislabeled:\")\n",
    "            for c in miss:\n",
    "                print(\"{0}, prediction: {1}, truth: {2}\".format(c[0], c[1], c[2]))"
   ]
  },
  {
   "cell_type": "code",
   "execution_count": 3,
   "metadata": {},
   "outputs": [],
   "source": [
    "mse = MSE()"
   ]
  },
  {
   "cell_type": "code",
   "execution_count": 4,
   "metadata": {},
   "outputs": [],
   "source": [
    "data = np.load('Data6/data.npz')\n",
    "x = data['x']\n",
    "y = np.where(data['y'] > 0, 1, -1)"
   ]
  },
  {
   "cell_type": "code",
   "execution_count": 5,
   "metadata": {
    "scrolled": true
   },
   "outputs": [
    {
     "name": "stdout",
     "output_type": "stream",
     "text": [
      "Mislabeled:\n",
      "[-0.31614901  1.87605657  1.44811891  0.32817385], prediction: 1, truth: -1\n",
      "[2.46810471 0.46356975 0.74726428 0.14156749], prediction: 1, truth: -1\n",
      "[ 1.57219761  1.44814411  0.67527587 -0.14375625], prediction: 1, truth: -1\n",
      "[0.72035419 1.97134466 0.59783723 0.67200369], prediction: 1, truth: -1\n"
     ]
    }
   ],
   "source": [
    "out = mse.run(x,y)"
   ]
  },
  {
   "cell_type": "code",
   "execution_count": 6,
   "metadata": {
    "scrolled": true
   },
   "outputs": [
    {
     "name": "stdout",
     "output_type": "stream",
     "text": [
      "[ 0.00234784  0.00377167 -0.0046117  -0.00567558]\n",
      "0.0022093979832471813\n",
      "[ 0.00234784  0.00377167 -0.0046117  -0.00567558]\n",
      "0.0012350508338109757\n",
      "[array([2.46810471, 0.46356975, 0.74726428, 0.14156749]), array([ 1.57219761,  1.44814411,  0.67527587, -0.14375625]), array([0.72035419, 1.97134466, 0.59783723, 0.67200369])]\n"
     ]
    }
   ],
   "source": [
    "print(out.theta)\n",
    "print(out.bias)\n",
    "print(out.best_theta)\n",
    "print(out.best_bias)\n",
    "print(out.best_miss)"
   ]
  },
  {
   "cell_type": "code",
   "execution_count": 7,
   "metadata": {},
   "outputs": [],
   "source": [
    "%matplotlib inline\n",
    "import matplotlib.pyplot as plt\n",
    "from mlxtend.plotting import plot_decision_regions"
   ]
  },
  {
   "cell_type": "code",
   "execution_count": 8,
   "metadata": {},
   "outputs": [
    {
     "data": {
      "image/png": "[encoded data removed]",
      "text/plain": [
       "<Figure size 432x288 with 1 Axes>"
      ]
     },
     "metadata": {},
     "output_type": "display_data"
    }
   ],
   "source": [
    "plt.plot(out.loss)\n",
    "plt.xscale('log')"
   ]
  },
  {
   "cell_type": "code",
   "execution_count": 9,
   "metadata": {},
   "outputs": [],
   "source": [
    "if len(x[0]) == 2:\n",
    "    plot_decision_regions(x, y, clf=perc)"
   ]
  }
 ],
 "metadata": {
  "kernelspec": {
   "display_name": "Python 3",
   "language": "python",
   "name": "python3"
  },
  "language_info": {
   "codemirror_mode": {
    "name": "ipython",
    "version": 3
   },
   "file_extension": ".py",
   "mimetype": "text/x-python",
   "name": "python",
   "nbconvert_exporter": "python",
   "pygments_lexer": "ipython3",
   "version": "3.5.2"
  }
 },
 "nbformat": 4,
 "nbformat_minor": 2
}
